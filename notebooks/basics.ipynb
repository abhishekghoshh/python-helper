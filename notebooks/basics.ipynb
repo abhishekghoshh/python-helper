{
 "cells": [
  {
   "cell_type": "markdown",
   "metadata": {},
   "source": [
    "<strong>Dictionaries</strong>"
   ]
  },
  {
   "cell_type": "markdown",
   "metadata": {},
   "source": [
    "The values of a dictionary can be any legal Python (including objects, functions, lists, other dictionaries and so on). The keys, however, have to be hashable - that is, they must be able to be transformed by some hash function into a single value. Simple object like integers and string literals are hashable, and so you can use them as dictionary keys. This is because it is possible to define a function that will process a string literal, for example, and always produce the same number for the same literal. But a list in Python can contain anything, even other lists, functions and dictionaries, so there is no way to define a single standard hash function that works on all lists. So lists are not hashable and you can’t use them as dictionary keys."
   ]
  },
  {
   "cell_type": "markdown",
   "metadata": {},
   "source": [
    "A useful dictionary function is get. It does the same thing as indexing, but if the key is not found in the dictionary it returns another specified value instead."
   ]
  },
  {
   "cell_type": "code",
   "execution_count": 1,
   "metadata": {},
   "outputs": [
    {
     "name": "stdout",
     "output_type": "stream",
     "text": [
      "[2, 3, 4]\n",
      "42\n",
      "not found\n"
     ]
    }
   ],
   "source": [
    "pairs = {1: \"apple\",\n",
    "  \"orange\": [2, 3, 4], \n",
    "  True: False, \n",
    "  12: \"True\",\n",
    "}\n",
    "\n",
    "print(pairs.get(\"orange\"))\n",
    "print(pairs.get(7, 42))\n",
    "print(pairs.get(12345, \"not found\"))"
   ]
  },
  {
   "cell_type": "markdown",
   "metadata": {},
   "source": [
    "<strong>Tuples</strong>\n"
   ]
  },
  {
   "cell_type": "markdown",
   "metadata": {},
   "source": [
    "Tuples are very similar to lists, except that they are immutable (they cannot be changed).\n",
    "Also, they are created using parentheses, rather than square brackets.\n",
    "You can access the values in the tuple with their index\n",
    "Trying to reassign a value in a tuple causes an error."
   ]
  },
  {
   "cell_type": "markdown",
   "metadata": {},
   "source": [
    "Tuples can be created without the parentheses by just separating the values with commas."
   ]
  },
  {
   "cell_type": "code",
   "execution_count": 3,
   "metadata": {},
   "outputs": [
    {
     "name": "stdout",
     "output_type": "stream",
     "text": [
      "('one', 'two', 'three')\n"
     ]
    }
   ],
   "source": [
    "my_tuple = \"one\", \"two\", \"three\"\n",
    "print(my_tuple)"
   ]
  },
  {
   "cell_type": "markdown",
   "metadata": {},
   "source": [
    "Tuple unpacking allows you to assign each item in a collection to a variable."
   ]
  },
  {
   "cell_type": "code",
   "execution_count": 4,
   "metadata": {},
   "outputs": [
    {
     "name": "stdout",
     "output_type": "stream",
     "text": [
      "1\n",
      "2\n",
      "3\n"
     ]
    }
   ],
   "source": [
    "numbers = (1, 2, 3)\n",
    "a, b, c = numbers\n",
    "print(a)\n",
    "print(b)\n",
    "print(c)"
   ]
  },
  {
   "cell_type": "markdown",
   "metadata": {},
   "source": [
    "This can be also used to swap variables by doing a, b = b, a , since b, a on the right hand side forms the tuple (b, a) which is then unpacked."
   ]
  },
  {
   "cell_type": "markdown",
   "metadata": {},
   "source": [
    "A variable that is prefaced with an asterisk (*) takes all values from the collection that are left over from the other variables."
   ]
  },
  {
   "cell_type": "code",
   "execution_count": 6,
   "metadata": {},
   "outputs": [
    {
     "name": "stdout",
     "output_type": "stream",
     "text": [
      "1\n",
      "2\n",
      "[3, 4, 5, 6, 7, 8]\n",
      "9\n"
     ]
    }
   ],
   "source": [
    "# c will get assigned the values 3 to 8.\n",
    "a, b, *c, d = [1, 2, 3, 4, 5, 6, 7, 8, 9]\n",
    "print(a)\n",
    "print(b)\n",
    "print(c)\n",
    "print(d)"
   ]
  },
  {
   "cell_type": "markdown",
   "metadata": {},
   "source": [
    "<strong>Sets</strong>"
   ]
  },
  {
   "cell_type": "markdown",
   "metadata": {},
   "source": [
    "Sets are similar to lists or dictionaries.\n",
    "They are created using curly braces, and are unordered, which means that they can't be indexed.\n",
    "Due to the way they're stored, it's faster to check whether an item is part of a set using the in operator, rather than part of a list."
   ]
  },
  {
   "cell_type": "markdown",
   "metadata": {},
   "source": [
    "You can use the add() function to add new items to the set, and remove() to delete a specific element:"
   ]
  },
  {
   "cell_type": "code",
   "execution_count": 9,
   "metadata": {},
   "outputs": [
    {
     "name": "stdout",
     "output_type": "stream",
     "text": [
      "{1, 2, 3, 4, 5, 6}\n",
      "{1, 2, 4, 5, 6, -7}\n"
     ]
    }
   ],
   "source": [
    "nums = {1, 2, 1, 3, 1, 4, 5, 6}\n",
    "print(nums)\n",
    "nums.add(-7)\n",
    "nums.remove(3)\n",
    "print(nums)"
   ]
  },
  {
   "cell_type": "markdown",
   "metadata": {},
   "source": [
    "Sets can be combined using mathematical operations.\n",
    "The union operator | combines two sets to form a new one containing items in either.\n",
    "The intersection operator & gets items only in both.\n",
    "The difference operator - gets items in the first set but not in the second.\n",
    "The symmetric difference operator ^ gets items in either set, but not both."
   ]
  },
  {
   "cell_type": "code",
   "execution_count": 10,
   "metadata": {},
   "outputs": [
    {
     "name": "stdout",
     "output_type": "stream",
     "text": [
      "{1, 2, 3, 4, 5, 6, 7, 8, 9}\n",
      "{4, 5, 6}\n",
      "{1, 2, 3}\n",
      "{8, 9, 7}\n",
      "{1, 2, 3, 7, 8, 9}\n"
     ]
    }
   ],
   "source": [
    "first = {1, 2, 3, 4, 5, 6}\n",
    "second = {4, 5, 6, 7, 8, 9}\n",
    "\n",
    "print(first | second)\n",
    "print(first & second)\n",
    "print(first - second)\n",
    "print(second - first)\n",
    "print(first ^ second)"
   ]
  },
  {
   "cell_type": "markdown",
   "metadata": {},
   "source": [
    "<strong>List Comprehensions</strong>"
   ]
  },
  {
   "cell_type": "markdown",
   "metadata": {},
   "source": [
    "List comprehensions are a useful way of quickly creating lists whose contents obey a rule.\n",
    "For example, we can do the following:"
   ]
  },
  {
   "cell_type": "code",
   "execution_count": 11,
   "metadata": {},
   "outputs": [
    {
     "name": "stdout",
     "output_type": "stream",
     "text": [
      "[0, 1, 8, 27, 64]\n"
     ]
    }
   ],
   "source": [
    "# a list comprehension\n",
    "cubes = [i**3 for i in range(5)]\n",
    "print(cubes)"
   ]
  },
  {
   "cell_type": "markdown",
   "metadata": {},
   "source": [
    "A list comprehension can also contain an if statement to enforce a condition on values in the list."
   ]
  },
  {
   "cell_type": "code",
   "execution_count": 13,
   "metadata": {},
   "outputs": [
    {
     "name": "stdout",
     "output_type": "stream",
     "text": [
      "[0, 4, 16, 36, 64]\n"
     ]
    }
   ],
   "source": [
    "evens=[i**2 for i in range(10) if i**2 % 2 == 0]\n",
    "print(evens)"
   ]
  },
  {
   "cell_type": "markdown",
   "metadata": {},
   "source": [
    "Python supports the following collection types: Lists, Dictionaries, Tuples, Sets.\n",
    "\n",
    "When to use a dictionary:\n",
    "- When you need a logical association between a key:value pair.\n",
    "- When you need fast lookup for your data, based on a custom key.\n",
    "- When your data is being constantly modified. Remember, dictionaries are mutable.\n",
    "\n",
    "When to use the other types:\n",
    "- Use lists if you have a collection of data that does not need random access. Try to choose lists when you need a simple, iterable collection that is modified frequently.\n",
    "- Use a set if you need uniqueness for the elements.\n",
    "- Use tuples when your data cannot/should not change.\n",
    "Many times, a tuple is used in combination with a dictionary, for example, a tuple might represent a key, because it's immutable."
   ]
  },
  {
   "cell_type": "markdown",
   "metadata": {},
   "source": [
    "<strong>Functional Programming</strong>"
   ]
  },
  {
   "cell_type": "markdown",
   "metadata": {},
   "source": [
    "Functional programming is a style of programming that (as the name suggests) is based around functions.\n",
    "A key part of functional programming is higher-order functions. Higher-order functions take other functions as arguments, or return them as results."
   ]
  },
  {
   "cell_type": "code",
   "execution_count": 15,
   "metadata": {},
   "outputs": [
    {
     "name": "stdout",
     "output_type": "stream",
     "text": [
      "20\n"
     ]
    }
   ],
   "source": [
    "# The function apply_twice takes another function as its argument, and calls it twice inside its body.\n",
    "def apply_twice(func, arg):\n",
    "    return func(func(arg))\n",
    "\n",
    "def add_five(x):\n",
    "    return x + 5\n",
    "\n",
    "print(apply_twice(add_five, 10))"
   ]
  },
  {
   "cell_type": "markdown",
   "metadata": {},
   "source": [
    "<strong>Pure Functions</strong>\n",
    "\n",
    "Functional programming seeks to use pure functions. Pure functions have no side effects, and return a value that depends only on their arguments.\n",
    "This is how functions in math work: for example, the cos(x) will, for the same value of x, always return the same result.\n",
    "Below are examples of pure and impure functions."
   ]
  },
  {
   "cell_type": "code",
   "execution_count": 17,
   "metadata": {},
   "outputs": [],
   "source": [
    "#Pure function:\n",
    "def pure_function(x, y):\n",
    "  temp = x + 2*y\n",
    "  return temp / (2*x + y)\n",
    "\n",
    "#Impure function:\n",
    "some_list = []\n",
    "\n",
    "def impure(arg):\n",
    "  some_list.append(arg)\n",
    "\n",
    "#The function above is not pure, because it changed the state of some_list."
   ]
  },
  {
   "cell_type": "markdown",
   "metadata": {},
   "source": [
    "Using pure functions has both advantages and disadvantages.\n",
    "Pure functions are:\n",
    "- easier to reason about and test.\n",
    "- more efficient. Once the function has been evaluated for an input, the result can be stored and referred to the next time the function of that input is needed, reducing the number of times the function is called. This is called memoization.\n",
    "- easier to run in parallel.\n",
    "Pure functions are more difficult to write in some situations."
   ]
  },
  {
   "cell_type": "markdown",
   "metadata": {},
   "source": [
    "<strong>Lambdas</strong>\n",
    "\n",
    "Creating a function normally (using def) assigns it to a variable with its name automatically.\n",
    "Python allows us to create functions on-the-fly, provided that they are created using lambda syntax.\n",
    "\n",
    "This approach is most commonly used when passing a simple function as an argument to another function. The syntax is shown in the next example and consists of the lambda keyword followed by a list of arguments, a colon, and the expression to evaluate and return."
   ]
  },
  {
   "cell_type": "code",
   "execution_count": 19,
   "metadata": {},
   "outputs": [
    {
     "data": {
      "text/plain": [
       "50"
      ]
     },
     "execution_count": 19,
     "metadata": {},
     "output_type": "execute_result"
    }
   ],
   "source": [
    "#Functions created using the lambda syntax are known as anonymous.\n",
    "def my_func(f, arg):\n",
    "  return f(arg)\n",
    "\n",
    "my_func(lambda x: 2*x*x, 5)"
   ]
  },
  {
   "cell_type": "markdown",
   "metadata": {},
   "source": [
    "Lambda functions aren't as powerful as named functions.\n",
    "They can only do things that require a single expression -- usually equivalent to a single line of code."
   ]
  },
  {
   "cell_type": "code",
   "execution_count": 20,
   "metadata": {},
   "outputs": [
    {
     "name": "stdout",
     "output_type": "stream",
     "text": [
      "4\n",
      "4\n"
     ]
    }
   ],
   "source": [
    "#named function\n",
    "def polynomial(x):\n",
    "    return x**2 + 5*x + 4\n",
    "print(polynomial(-5))\n",
    "\n",
    "#lambda\n",
    "print((lambda x: x**2 + 5*x + 4) (-5))"
   ]
  },
  {
   "cell_type": "markdown",
   "metadata": {},
   "source": [
    "<strong>map</strong>\n",
    "\n",
    "The built-in functions map and filter are very useful higher-order functions that operate on lists (or similar objects called iterables).\n",
    "The function map takes a function and an iterable as arguments, and returns a new iterable with the function applied to each argument."
   ]
  },
  {
   "cell_type": "code",
   "execution_count": 24,
   "metadata": {},
   "outputs": [
    {
     "name": "stdout",
     "output_type": "stream",
     "text": [
      "[False, True, False, True, False]\n",
      "[16, 27, 38, 49, 60]\n"
     ]
    }
   ],
   "source": [
    "def add_five(x):\n",
    "    return x + 5\n",
    "def is_even(x):\n",
    "    return x%2==0\n",
    "nums = [11, 22, 33, 44, 55]\n",
    "print(list(map(is_even, nums)))\n",
    "print(list(map(add_five, nums)))"
   ]
  },
  {
   "cell_type": "markdown",
   "metadata": {},
   "source": [
    "<strong>filter</strong>\n",
    "\n",
    "\n",
    "The function filter filters an iterable by leaving only the items that match a condition (also called a predicate)."
   ]
  },
  {
   "cell_type": "code",
   "execution_count": 25,
   "metadata": {},
   "outputs": [
    {
     "name": "stdout",
     "output_type": "stream",
     "text": [
      "[22, 44]\n"
     ]
    }
   ],
   "source": [
    "nums = [11, 22, 33, 44, 55]\n",
    "res = list(filter(lambda x: x%2==0, nums))\n",
    "print(res)"
   ]
  },
  {
   "cell_type": "markdown",
   "metadata": {},
   "source": [
    "<strong>Generators</strong>\n",
    "\n",
    "Generators are a type of iterable, like lists or tuples.\n",
    "Unlike lists, they don't allow indexing with arbitrary indices, but they can still be iterated through with for loops.\n",
    "They can be created using functions and the yield statement.</br>\n",
    "The yield statement is used to define a generator, replacing the return of a function to provide a result to its caller without destroying local variables."
   ]
  },
  {
   "cell_type": "code",
   "execution_count": 28,
   "metadata": {},
   "outputs": [
    {
     "name": "stdout",
     "output_type": "stream",
     "text": [
      "5 4 3 2 1 "
     ]
    }
   ],
   "source": [
    "def countdown():\n",
    "    i=5\n",
    "    while i > 0:\n",
    "        yield i\n",
    "        i -= 1\n",
    "\n",
    "for i in countdown():\n",
    "    print(i,end=\" \")"
   ]
  },
  {
   "cell_type": "markdown",
   "metadata": {},
   "source": [
    "Due to the fact that they yield one item at a time, generators don't have the memory restrictions of lists.\n",
    "In fact, they can be infinite!\n",
    "\n",
    "In short, generators allow you to declare a function that behaves like an iterator, i.e. it can be used in a for loop."
   ]
  },
  {
   "cell_type": "code",
   "execution_count": 30,
   "metadata": {},
   "outputs": [],
   "source": [
    "def infinite_sevens():\n",
    "  while True:\n",
    "    yield 7"
   ]
  },
  {
   "cell_type": "markdown",
   "metadata": {},
   "source": [
    "Finite generators can be converted into lists by passing them as arguments to the list function.\n",
    "\n",
    "Using generators results in improved performance, which is the result of the lazy (on demand) generation of values, which translates to lower memory usage. Furthermore, we do not need to wait until all the elements have been generated before we start to use them."
   ]
  },
  {
   "cell_type": "code",
   "execution_count": 31,
   "metadata": {},
   "outputs": [
    {
     "name": "stdout",
     "output_type": "stream",
     "text": [
      "[0, 2, 4, 6, 8, 10]\n"
     ]
    }
   ],
   "source": [
    "def numbers(x):\n",
    "    for i in range(x):\n",
    "        if i % 2 == 0:\n",
    "            yield i\n",
    "\n",
    "print(list(numbers(11)))"
   ]
  },
  {
   "cell_type": "markdown",
   "metadata": {},
   "source": [
    "<strong>Decorators</strong>\n",
    "\n",
    "\n",
    "Decorators provide a way to modify functions using other functions.\n",
    "This is ideal when you need to extend the functionality of functions that you don't want to modify."
   ]
  },
  {
   "cell_type": "code",
   "execution_count": 33,
   "metadata": {},
   "outputs": [
    {
     "name": "stdout",
     "output_type": "stream",
     "text": [
      "============\n",
      "Hello world!\n",
      "============\n"
     ]
    }
   ],
   "source": [
    "def decor(func):\n",
    "    def wrap():\n",
    "        print(\"============\")\n",
    "        func()\n",
    "        print(\"============\")\n",
    "    return wrap\n",
    "\n",
    "def print_text():\n",
    "    print(\"Hello world!\")\n",
    "\n",
    "decorated = decor(print_text)\n",
    "decorated()"
   ]
  },
  {
   "cell_type": "markdown",
   "metadata": {},
   "source": [
    "We defined a function named decor that has a single parameter func. Inside decor, we defined a nested function named wrap. The wrap function will print a string, then call func(), and print another string. The decor function returns the wrap function as its result.\n",
    "\n",
    "We could say that the variable decorated is a decorated version of print_text -- it's print_text plus something.\n",
    "\n",
    "In fact, if we wrote a useful decorator we might want to replace print_text with the decorated version altogether so we always got our \"plus something\" version of print_text.\n",
    "\n",
    "This is done by re-assigning the variable that contains our function:"
   ]
  },
  {
   "cell_type": "code",
   "execution_count": 34,
   "metadata": {},
   "outputs": [
    {
     "name": "stdout",
     "output_type": "stream",
     "text": [
      "============\n",
      "Hello world!\n",
      "============\n"
     ]
    }
   ],
   "source": [
    "def decor(func):\n",
    "    def wrap():\n",
    "        print(\"============\")\n",
    "        func()\n",
    "        print(\"============\")\n",
    "    return wrap\n",
    "\n",
    "def print_text():\n",
    "    print(\"Hello world!\")\n",
    "\n",
    "print_text = decor(print_text)\n",
    "print_text()"
   ]
  },
  {
   "cell_type": "markdown",
   "metadata": {},
   "source": [
    "In our previous example, we decorated our function by replacing the variable containing the function with a wrapped version."
   ]
  },
  {
   "cell_type": "code",
   "execution_count": 36,
   "metadata": {},
   "outputs": [
    {
     "name": "stdout",
     "output_type": "stream",
     "text": [
      "============\n",
      "Hello world!\n",
      "============\n"
     ]
    }
   ],
   "source": [
    "def decor(func):\n",
    "    def wrap():\n",
    "        print(\"============\")\n",
    "        func()\n",
    "        print(\"============\")\n",
    "    return wrap\n",
    "\n",
    "def print_text():\n",
    "    print(\"Hello world!\")\n",
    "\n",
    "print_text = decor(print_text)\n",
    "\n",
    "print_text();"
   ]
  },
  {
   "cell_type": "markdown",
   "metadata": {},
   "source": [
    "This pattern can be used at any time, to wrap any function.\n",
    "\n",
    "Python provides support to wrap a function in a decorator by pre-pending the function definition with a decorator name and the @ symbol.\n",
    "\n",
    "If we are defining a function we can \"decorate\" it with the @ symbol like:"
   ]
  },
  {
   "cell_type": "code",
   "execution_count": 37,
   "metadata": {},
   "outputs": [
    {
     "name": "stdout",
     "output_type": "stream",
     "text": [
      "============\n",
      "Hello world!\n",
      "============\n"
     ]
    }
   ],
   "source": [
    "def decor(func):\n",
    "    def wrap():\n",
    "        print(\"============\")\n",
    "        func()\n",
    "        print(\"============\")\n",
    "    return wrap\n",
    "\n",
    "@decor\n",
    "def print_text():\n",
    "    print(\"Hello world!\")\n",
    "\n",
    "print_text();"
   ]
  },
  {
   "cell_type": "markdown",
   "metadata": {},
   "source": [
    "<strong>Recursion</strong>\n",
    "\n",
    "\n",
    "Recursion is a very important concept in functional programming.\n",
    "The fundamental part of recursion is self-reference -- functions calling themselves. It is used to solve problems that can be broken up into easier sub-problems of the same type.\n",
    "\n",
    "A classic example of a function that is implemented recursively is the factorial function, which finds the product of all positive integers below a specified number.\n",
    "For example, 5! (5 factorial) is 5 * 4 * 3 * 2 * 1 (120). To implement this recursively, notice that 5! = 5 * 4!, 4! = 4 * 3!, 3! = 3 * 2!, and so on. Generally, n! = n * (n-1)!.\n",
    "Furthermore, 1! = 1. This is known as the base case, as it can be calculated without performing any more factorials.\n",
    "Below is a recursive implementation of the factorial function.\n",
    "\n",
    "The base case acts as the exit condition of the recursion.\n",
    "Not adding a base case results in infinite function calls, crashing the program."
   ]
  },
  {
   "cell_type": "code",
   "execution_count": 38,
   "metadata": {},
   "outputs": [
    {
     "name": "stdout",
     "output_type": "stream",
     "text": [
      "120\n"
     ]
    }
   ],
   "source": [
    "def factorial(x):\n",
    "    if x == 1:\n",
    "        return 1\n",
    "    else: \n",
    "        return x * factorial(x-1)\n",
    "\n",
    "print(factorial(5))"
   ]
  },
  {
   "cell_type": "markdown",
   "metadata": {},
   "source": [
    "Recursion can also be indirect. One function can call a second, which calls the first, which calls the second, and so on. This can occur with any number of functions."
   ]
  },
  {
   "cell_type": "code",
   "execution_count": 39,
   "metadata": {},
   "outputs": [
    {
     "name": "stdout",
     "output_type": "stream",
     "text": [
      "True\n",
      "False\n"
     ]
    }
   ],
   "source": [
    "def is_even(x):\n",
    "    if x == 0:\n",
    "        return True\n",
    "    else:\n",
    "        return is_odd(x-1)\n",
    "\n",
    "def is_odd(x):\n",
    "    return not is_even(x)\n",
    "\n",
    "\n",
    "print(is_odd(17))\n",
    "print(is_even(23))"
   ]
  },
  {
   "cell_type": "markdown",
   "metadata": {},
   "source": [
    "<strong>*args</strong>\n",
    "\n",
    "\n",
    "Python allows you to have functions with varying numbers of arguments.\n",
    "Using *args as a function parameter enables you to pass an arbitrary number of arguments to that function. The arguments are then accessible as the tuple args in the body of the function.\n",
    "\n",
    "The parameter *args must come after the named parameters to a function.\n",
    "The name args is just a convention; you can choose to use another."
   ]
  },
  {
   "cell_type": "code",
   "execution_count": 44,
   "metadata": {},
   "outputs": [
    {
     "name": "stdout",
     "output_type": "stream",
     "text": [
      "1\n",
      "(2, 3, 4, 5)\n"
     ]
    }
   ],
   "source": [
    "def function(named_arg, *args):\n",
    "    print(named_arg)\n",
    "    print(args)\n",
    "\n",
    "function(1, 2, 3, 4, 5)"
   ]
  },
  {
   "cell_type": "markdown",
   "metadata": {},
   "source": [
    "<Strong>**kwargs</strong>\n",
    "\n",
    "\n",
    "**kwargs (standing for keyword arguments) allows you to handle named arguments that you have not defined in advance.\n",
    "The keyword arguments return a dictionary in which the keys are the argument names, and the values are the argument values.\n",
    "\n",
    "a and b are the names of the arguments that we passed to the function call.\n",
    "\n",
    "The arguments returned by **kwargs are not included in *args."
   ]
  },
  {
   "cell_type": "code",
   "execution_count": 45,
   "metadata": {},
   "outputs": [
    {
     "name": "stdout",
     "output_type": "stream",
     "text": [
      "(4, 5, 6)\n",
      "{'a': 7, 'b': 8}\n"
     ]
    }
   ],
   "source": [
    "def my_func(x, y=7, *args, **kwargs):\n",
    "    print(args)\n",
    "    print(kwargs)\n",
    "\n",
    "my_func(2, 3, 4, 5, 6, a=7, b=8)"
   ]
  },
  {
   "cell_type": "markdown",
   "metadata": {},
   "source": [
    "<strong>Classes</strong>\n",
    "\n",
    "\n",
    "The focal point of Object Oriented Programming (OOP) are objects, which are created using classes.\n",
    "The class describes what the object will be, but is separate from the object itself. In other words, a class can be described as an object's blueprint, description, or definition.\n",
    "You can use the same class as a blueprint for creating multiple different objects.\n",
    "\n",
    "Classes are created using the keyword class and an indented block, which contains class methods (which are functions).\n",
    "Below is an example of a simple class and its objects."
   ]
  },
  {
   "cell_type": "code",
   "execution_count": 55,
   "metadata": {},
   "outputs": [
    {
     "name": "stdout",
     "output_type": "stream",
     "text": [
      "<__main__.Cat object at 0x0000017CF3026790>\n",
      "<class '__main__.Cat'>\n"
     ]
    }
   ],
   "source": [
    "class Cat:\n",
    "  def __init__(self, color, legs):\n",
    "    self.color = color\n",
    "    self.legs = legs\n",
    "\n",
    "felix = Cat(\"ginger\", 4)\n",
    "rover = Cat(\"dog-colored\", 4)\n",
    "stumpy = Cat(\"brown\", 3)\n",
    "print(felix)\n",
    "print(Cat)"
   ]
  },
  {
   "cell_type": "markdown",
   "metadata": {},
   "source": [
    "<strong>__init__</strong>\n",
    "\n",
    "\n",
    "The __init__ method is the most important method in a class.\n",
    "This is called when an instance (object) of the class is created, using the class name as a function.\n",
    "\n",
    "All methods must have self as their first parameter, although it isn't explicitly passed, Python adds the self argument to the list for you; you do not need to include it when you call the methods. Within a method definition, self refers to the instance calling the method.\n",
    "\n",
    "Instances of a class have attributes, which are pieces of data associated with them.\n",
    "In this example, Cat instances have attributes color and legs. These can be accessed by putting a dot, and the attribute name after an instance.\n",
    "In an __init__ method, self.attribute can therefore be used to set the initial value of an instance's attributes.\n",
    "\n",
    "In the example above, the __init__ method takes two arguments and assigns them to the object's attributes. The __init__ method is called the class constructor."
   ]
  },
  {
   "cell_type": "markdown",
   "metadata": {},
   "source": [
    "<strong>Methods</strong>\n",
    "\n",
    "\n",
    "Classes can have other methods defined to add functionality to them.\n",
    "Remember, that all methods must have self as their first parameter.\n",
    "These methods are accessed using the same dot syntax as attributes."
   ]
  },
  {
   "cell_type": "markdown",
   "metadata": {},
   "source": [
    "<strong>Inheritance</strong>\n",
    "\n",
    "\n",
    "Inheritance provides a way to share functionality between classes.\n",
    "Imagine several classes, Cat, Dog, Rabbit and so on. Although they may differ in some ways (only Dog might have the method bark), they are likely to be similar in others (all having the attributes color and name).\n",
    "This similarity can be expressed by making them all inherit from a superclass Animal, which contains the shared functionality.\n",
    "To inherit a class from another class, put the superclass name in parentheses after the class name.\n",
    "\n",
    "Inheritance\n",
    "\n",
    "\n",
    "A class that inherits from another class is called a subclass.\n",
    "A class that is inherited from is called a superclass.\n",
    "If a class inherits from another with the same attributes or methods, it overrides them."
   ]
  },
  {
   "cell_type": "code",
   "execution_count": 59,
   "metadata": {},
   "outputs": [
    {
     "name": "stdout",
     "output_type": "stream",
     "text": [
      "brown\n",
      "Woof!\n"
     ]
    }
   ],
   "source": [
    "class Animal: \n",
    "    def __init__(self, name, color):\n",
    "        self.name = name\n",
    "        self.color = color\n",
    "\n",
    "class Cat(Animal):\n",
    "    def purr(self):\n",
    "        print(\"Purr...\")\n",
    "        \n",
    "class Dog(Animal):\n",
    "    def bark(self):\n",
    "        print(\"Woof!\")\n",
    "\n",
    "fido = Dog(\"Fido\", \"brown\")\n",
    "print(fido.color)\n",
    "fido.bark()"
   ]
  },
  {
   "cell_type": "markdown",
   "metadata": {},
   "source": [
    "Inheritance\n",
    "\n",
    "\n",
    "The function super is a useful inheritance-related function that refers to the parent class. It can be used to find the method with a certain name in an object's superclass."
   ]
  },
  {
   "cell_type": "code",
   "execution_count": 60,
   "metadata": {},
   "outputs": [
    {
     "name": "stdout",
     "output_type": "stream",
     "text": [
      "2\n",
      "1\n"
     ]
    }
   ],
   "source": [
    "class A:\n",
    "    def spam(self):\n",
    "        print(1)\n",
    "\n",
    "class B(A):\n",
    "    def spam(self):\n",
    "        print(2)\n",
    "        super().spam()\n",
    "\n",
    "B().spam()"
   ]
  },
  {
   "cell_type": "markdown",
   "metadata": {},
   "source": [
    "<strong>Magic Methods</strong>\n",
    "\n",
    "\n",
    "Magic methods are special methods which have double underscores at the beginning and end of their names.\n",
    "They are also known as dunders.\n",
    "So far, the only one we have encountered is __init__, but there are several others.\n",
    "They are used to create functionality that can't be represented as a normal method.\n",
    "\n",
    "One common use of them is operator overloading.\n",
    "This means defining operators for custom classes that allow operators such as + and * to be used on them.\n",
    "An example magic method is __add__ for +."
   ]
  },
  {
   "cell_type": "code",
   "execution_count": 61,
   "metadata": {},
   "outputs": [
    {
     "name": "stdout",
     "output_type": "stream",
     "text": [
      "8\n",
      "16\n"
     ]
    }
   ],
   "source": [
    "class Vector2D:\n",
    "    def __init__(self, x, y):\n",
    "        self.x = x\n",
    "        self.y = y\n",
    "    def __add__(self, other):\n",
    "        return Vector2D(self.x + other.x, self.y + other.y)\n",
    "\n",
    "first = Vector2D(5, 7)\n",
    "second = Vector2D(3, 9)\n",
    "result = first + second\n",
    "print(result.x)\n",
    "print(result.y)"
   ]
  },
  {
   "cell_type": "markdown",
   "metadata": {},
   "source": [
    "More magic methods for common operators:\n",
    "__sub__ for -\n",
    "\n",
    "__mul__ for *\n",
    "\n",
    "__truediv__ for /\n",
    "\n",
    "__floordiv__ for //\n",
    "\n",
    "__mod__ for %\n",
    "\n",
    "__pow__ for **\n",
    "\n",
    "__and__ for &\n",
    "\n",
    "__xor__ for ^\n",
    "\n",
    "__or__ for |\n",
    "\n",
    "The expression x + y is translated into x.__add__(y).\n",
    "However, if x hasn't implemented __add__, and x and y are of different types, then y.__radd__(x) is called.\n",
    "There are equivalent r methods for all magic methods just mentioned.\n",
    "\n",
    "In the following above, we defined the division operation for our class SpecialString."
   ]
  },
  {
   "cell_type": "code",
   "execution_count": 62,
   "metadata": {},
   "outputs": [
    {
     "name": "stdout",
     "output_type": "stream",
     "text": [
      "spam\n",
      "============\n",
      "Hello world!\n"
     ]
    }
   ],
   "source": [
    "class SpecialString:\n",
    "    def __init__(self, cont):\n",
    "        self.cont = cont\n",
    "\n",
    "    def __truediv__(self, other):\n",
    "        line = \"=\" * len(other.cont)\n",
    "        return \"\\n\".join([self.cont, line, other.cont])\n",
    "\n",
    "spam = SpecialString(\"spam\")\n",
    "hello = SpecialString(\"Hello world!\")\n",
    "print(spam / hello)"
   ]
  },
  {
   "cell_type": "markdown",
   "metadata": {},
   "source": [
    "Python also provides magic methods for comparisons.\n",
    "\n",
    "__lt__ for <\n",
    "\n",
    "__le__ for <=\n",
    "\n",
    "__eq__ for ==\n",
    "\n",
    "__ne__ for !=\n",
    "\n",
    "__gt__ for >\n",
    "\n",
    "__ge__ for >=\n",
    "\n",
    "If __ne__ is not implemented, it returns the opposite of __eq__.\n",
    "There are no other relationships between the other operators."
   ]
  },
  {
   "cell_type": "code",
   "execution_count": 63,
   "metadata": {},
   "outputs": [
    {
     "name": "stdout",
     "output_type": "stream",
     "text": [
      ">spam>eggs\n",
      "e>spam>ggs\n",
      "eg>spam>gs\n",
      "egg>spam>s\n",
      "eggs>spam>\n"
     ]
    }
   ],
   "source": [
    "class SpecialString:\n",
    "    def __init__(self, cont):\n",
    "        self.cont = cont\n",
    "\n",
    "    def __gt__(self, other):\n",
    "        for index in range(len(other.cont)+1):\n",
    "            result = other.cont[:index] + \">\" + self.cont\n",
    "            result += \">\" + other.cont[index:]\n",
    "            print(result)\n",
    "\n",
    "spam = SpecialString(\"spam\")\n",
    "eggs = SpecialString(\"eggs\")\n",
    "spam > eggs"
   ]
  },
  {
   "cell_type": "markdown",
   "metadata": {},
   "source": [
    "There are several magic methods for making classes act like containers.\n",
    "\n",
    "__len__ for len()\n",
    "\n",
    "__getitem__ for indexing\n",
    "\n",
    "__setitem__ for assigning to indexed values\n",
    "\n",
    "__delitem__ for deleting indexed values\n",
    "\n",
    "__iter__ for iteration over objects (e.g., in for loops)\n",
    "\n",
    "__contains__ for in\n",
    "\n",
    "There are many other magic methods that we won't cover here, such as __call__ for calling objects as functions, and __int__, __str__, and the like, for converting objects to built-in types."
   ]
  },
  {
   "cell_type": "code",
   "execution_count": 64,
   "metadata": {},
   "outputs": [
    {
     "name": "stdout",
     "output_type": "stream",
     "text": [
      "5\n",
      "10\n",
      "B\n",
      "C\n"
     ]
    }
   ],
   "source": [
    "import random\n",
    "\n",
    "class VagueList:\n",
    "    def __init__(self, cont):\n",
    "        self.cont = cont\n",
    "\n",
    "    def __getitem__(self, index):\n",
    "        return self.cont[index + random.randint(-1, 1)]\n",
    "\n",
    "    def __len__(self):\n",
    "        return random.randint(0, len(self.cont)*2)\n",
    "\n",
    "vague_list = VagueList([\"A\", \"B\", \"C\", \"D\", \"E\"])\n",
    "print(len(vague_list))\n",
    "print(len(vague_list))\n",
    "print(vague_list[2])\n",
    "print(vague_list[2])"
   ]
  },
  {
   "cell_type": "markdown",
   "metadata": {},
   "source": [
    "We have overridden the len() function for the class VagueList to return a random number.\n",
    "The indexing function also returns a random item in a range from the list, based on the expression."
   ]
  },
  {
   "cell_type": "markdown",
   "metadata": {},
   "source": [
    "<strong>Data Hiding</strong>\n",
    "\n",
    "\n",
    "A key part of object-oriented programming is encapsulation, which involves packaging of related variables and functions into a single easy-to-use object -- an instance of a class.\n",
    "A related concept is data hiding, which states that implementation details of a class should be hidden, and a clean standard interface be presented for those who want to use the class.\n",
    "In other programming languages, this is usually done with private methods and attributes, which block external access to certain methods and attributes in a class.\n",
    "\n",
    "The Python philosophy is slightly different. It is often stated as \"we are all consenting adults here\", meaning that you shouldn't put arbitrary restrictions on accessing parts of a class. Hence there are no ways of enforcing that a method or attribute be strictly private.\n",
    "\n",
    "However, there are ways to discourage people from accessing parts of a class, such as by denoting that it is an implementation detail, and should be used at their own risk."
   ]
  },
  {
   "cell_type": "markdown",
   "metadata": {},
   "source": [
    "Weakly private methods and attributes have a single underscore at the beginning.\n",
    "This signals that they are private, and shouldn't be used by external code. However, it is mostly only a convention, and does not stop external code from accessing them."
   ]
  },
  {
   "cell_type": "code",
   "execution_count": 67,
   "metadata": {},
   "outputs": [
    {
     "name": "stdout",
     "output_type": "stream",
     "text": [
      "Queue([1, 2, 3])\n",
      "Queue([0, 1, 2, 3])\n",
      "Queue([0, 1, 2])\n",
      "[0, 1, 2]\n"
     ]
    }
   ],
   "source": [
    "class Queue:\n",
    "    def __init__(self, contents):\n",
    "        self._hiddenlist = list(contents)\n",
    "\n",
    "    def push(self, value):\n",
    "        self._hiddenlist.insert(0, value)\n",
    "\n",
    "    def pop(self):\n",
    "        return self._hiddenlist.pop(-1)\n",
    "\n",
    "    def __repr__(self):\n",
    "        return \"Queue({})\".format(self._hiddenlist)\n",
    "\n",
    "queue = Queue([1, 2, 3])\n",
    "print(queue)\n",
    "queue.push(0)\n",
    "print(queue)\n",
    "queue.pop()\n",
    "print(queue)\n",
    "print(queue._hiddenlist)"
   ]
  },
  {
   "cell_type": "markdown",
   "metadata": {},
   "source": [
    "In the code above, the attribute _hiddenlist is marked as private, but it can still be accessed in the outside code.\n",
    "The __repr__ magic method is used for string representation of the instance."
   ]
  },
  {
   "cell_type": "markdown",
   "metadata": {},
   "source": [
    "Strongly private methods and attributes have a double underscore at the beginning of their names. This causes their names to be mangled, which means that they can't be accessed from outside the class.\n",
    "The purpose of this isn't to ensure that they are kept private, but to avoid bugs if there are subclasses that have methods or attributes with the same names.\n",
    "Name mangled methods can still be accessed externally, but by a different name. The method __privatemethod of class Spam could be accessed externally with _Spam__privatemethod."
   ]
  },
  {
   "cell_type": "code",
   "execution_count": 68,
   "metadata": {},
   "outputs": [
    {
     "name": "stdout",
     "output_type": "stream",
     "text": [
      "7\n",
      "7\n"
     ]
    },
    {
     "ename": "AttributeError",
     "evalue": "'Spam' object has no attribute '__egg'",
     "output_type": "error",
     "traceback": [
      "\u001b[1;31m---------------------------------------------------------------------------\u001b[0m",
      "\u001b[1;31mAttributeError\u001b[0m                            Traceback (most recent call last)",
      "\u001b[1;32m<ipython-input-68-316d40a74b21>\u001b[0m in \u001b[0;36m<module>\u001b[1;34m\u001b[0m\n\u001b[0;32m      7\u001b[0m \u001b[0ms\u001b[0m\u001b[1;33m.\u001b[0m\u001b[0mprint_egg\u001b[0m\u001b[1;33m(\u001b[0m\u001b[1;33m)\u001b[0m\u001b[1;33m\u001b[0m\u001b[1;33m\u001b[0m\u001b[0m\n\u001b[0;32m      8\u001b[0m \u001b[0mprint\u001b[0m\u001b[1;33m(\u001b[0m\u001b[0ms\u001b[0m\u001b[1;33m.\u001b[0m\u001b[0m_Spam__egg\u001b[0m\u001b[1;33m)\u001b[0m\u001b[1;33m\u001b[0m\u001b[1;33m\u001b[0m\u001b[0m\n\u001b[1;32m----> 9\u001b[1;33m \u001b[0mprint\u001b[0m\u001b[1;33m(\u001b[0m\u001b[0ms\u001b[0m\u001b[1;33m.\u001b[0m\u001b[0m__egg\u001b[0m\u001b[1;33m)\u001b[0m\u001b[1;33m\u001b[0m\u001b[1;33m\u001b[0m\u001b[0m\n\u001b[0m",
      "\u001b[1;31mAttributeError\u001b[0m: 'Spam' object has no attribute '__egg'"
     ]
    }
   ],
   "source": [
    "class Spam:\n",
    "    __egg = 7\n",
    "    def print_egg(self):\n",
    "        print(self.__egg)\n",
    "\n",
    "s = Spam()\n",
    "s.print_egg()\n",
    "print(s._Spam__egg)\n",
    "print(s.__egg)"
   ]
  },
  {
   "cell_type": "markdown",
   "metadata": {},
   "source": [
    "Basically, Python protects those members by internally changing the name to include the class name."
   ]
  },
  {
   "cell_type": "markdown",
   "metadata": {},
   "source": [
    "Methods of objects we've looked at so far are called by an instance of a class, which is then passed to the self parameter of the method.\n",
    "Class methods are different -- they are called by a class, which is passed to the cls parameter of the method.\n",
    "A common use of these are factory methods, which instantiate an instance of a class, using different parameters than those usually passed to the class constructor.\n",
    "Class methods are marked with a classmethod decorator."
   ]
  },
  {
   "cell_type": "code",
   "execution_count": 69,
   "metadata": {},
   "outputs": [
    {
     "name": "stdout",
     "output_type": "stream",
     "text": [
      "25\n"
     ]
    }
   ],
   "source": [
    "class Rectangle:\n",
    "    def __init__(self, width, height):\n",
    "        self.width = width\n",
    "        self.height = height\n",
    "\n",
    "    def calculate_area(self):\n",
    "        return self.width * self.height\n",
    "\n",
    "    @classmethod\n",
    "    def new_square(cls, side_length):\n",
    "        return cls(side_length, side_length)\n",
    "\n",
    "square = Rectangle.new_square(5)\n",
    "print(square.calculate_area())"
   ]
  },
  {
   "cell_type": "markdown",
   "metadata": {},
   "source": [
    "new_square is a class method and is called on the class, rather than on an instance of the class. It returns a new object of the class cls.\n",
    "Technically, the parameters self and cls are just conventions; they could be changed to anything else. However, they are universally followed, so it is wise to stick to using them."
   ]
  },
  {
   "cell_type": "markdown",
   "metadata": {},
   "source": [
    "<strong>Static Methods</strong>\n",
    "\n",
    "\n",
    "Static methods are similar to class methods, except they don't receive any additional arguments; they are identical to normal functions that belong to a class.\n",
    "They are marked with the staticmethod decorator."
   ]
  },
  {
   "cell_type": "code",
   "execution_count": 71,
   "metadata": {},
   "outputs": [],
   "source": [
    "class Pizza:\n",
    "    def __init__(self, toppings):\n",
    "        self.toppings = toppings\n",
    "\n",
    "    @staticmethod\n",
    "    def validate_topping(topping):\n",
    "        if topping == \"pineapple\":\n",
    "            raise ValueError(\"No pineapples!\")\n",
    "        else:\n",
    "            return True\n",
    "\n",
    "ingredients = [\"cheese\", \"onions\", \"spam\"]\n",
    "if all(Pizza.validate_topping(i) for i in ingredients):\n",
    "    pizza = Pizza(ingredients)"
   ]
  },
  {
   "cell_type": "markdown",
   "metadata": {},
   "source": [
    "Static methods behave like plain functions, except for the fact that you can call them from an instance of the class."
   ]
  },
  {
   "cell_type": "markdown",
   "metadata": {},
   "source": [
    "<strong>Properties</strong>\n",
    "\n",
    "\n",
    "Properties provide a way of customizing access to instance attributes.\n",
    "They are created by putting the property decorator above a method, which means when the instance attribute with the same name as the method is accessed, the method will be called instead.\n",
    "One common use of a property is to make an attribute read-only."
   ]
  },
  {
   "cell_type": "code",
   "execution_count": 73,
   "metadata": {},
   "outputs": [
    {
     "name": "stdout",
     "output_type": "stream",
     "text": [
      "False\n"
     ]
    },
    {
     "ename": "AttributeError",
     "evalue": "can't set attribute",
     "output_type": "error",
     "traceback": [
      "\u001b[1;31m---------------------------------------------------------------------------\u001b[0m",
      "\u001b[1;31mAttributeError\u001b[0m                            Traceback (most recent call last)",
      "\u001b[1;32m<ipython-input-73-7d3f62f39dc0>\u001b[0m in \u001b[0;36m<module>\u001b[1;34m\u001b[0m\n\u001b[0;32m      9\u001b[0m \u001b[0mpizza\u001b[0m \u001b[1;33m=\u001b[0m \u001b[0mPizza\u001b[0m\u001b[1;33m(\u001b[0m\u001b[1;33m[\u001b[0m\u001b[1;34m\"cheese\"\u001b[0m\u001b[1;33m,\u001b[0m \u001b[1;34m\"tomato\"\u001b[0m\u001b[1;33m]\u001b[0m\u001b[1;33m)\u001b[0m\u001b[1;33m\u001b[0m\u001b[1;33m\u001b[0m\u001b[0m\n\u001b[0;32m     10\u001b[0m \u001b[0mprint\u001b[0m\u001b[1;33m(\u001b[0m\u001b[0mpizza\u001b[0m\u001b[1;33m.\u001b[0m\u001b[0mpineapple_allowed\u001b[0m\u001b[1;33m)\u001b[0m\u001b[1;33m\u001b[0m\u001b[1;33m\u001b[0m\u001b[0m\n\u001b[1;32m---> 11\u001b[1;33m \u001b[0mpizza\u001b[0m\u001b[1;33m.\u001b[0m\u001b[0mpineapple_allowed\u001b[0m \u001b[1;33m=\u001b[0m \u001b[1;32mTrue\u001b[0m\u001b[1;33m\u001b[0m\u001b[1;33m\u001b[0m\u001b[0m\n\u001b[0m",
      "\u001b[1;31mAttributeError\u001b[0m: can't set attribute"
     ]
    }
   ],
   "source": [
    "class Pizza:\n",
    "    def __init__(self, toppings):\n",
    "        self.toppings = toppings\n",
    "\n",
    "    @property\n",
    "    def pineapple_allowed(self):\n",
    "        return False\n",
    "\n",
    "pizza = Pizza([\"cheese\", \"tomato\"])\n",
    "print(pizza.pineapple_allowed)\n",
    "pizza.pineapple_allowed = True"
   ]
  },
  {
   "cell_type": "markdown",
   "metadata": {},
   "source": [
    "\n",
    "Properties can also be set by defining setter/getter functions.\n",
    "The setter function sets the corresponding property's value.\n",
    "The getter gets the value.\n",
    "To define a setter, you need to use a decorator of the same name as the property, followed by a dot and the setter keyword.\n",
    "The same applies to defining getter functions."
   ]
  },
  {
   "cell_type": "code",
   "execution_count": 74,
   "metadata": {},
   "outputs": [
    {
     "name": "stdout",
     "output_type": "stream",
     "text": [
      "False\n",
      "Enter the password: Sw0rdf1sh!\n",
      "True\n"
     ]
    }
   ],
   "source": [
    "class Pizza:\n",
    "    def __init__(self, toppings):\n",
    "        self.toppings = toppings\n",
    "        self._pineapple_allowed = False\n",
    "\n",
    "    @property\n",
    "    def pineapple_allowed(self):\n",
    "        return self._pineapple_allowed\n",
    "\n",
    "    @pineapple_allowed.setter\n",
    "    def pineapple_allowed(self, value):\n",
    "        if value:\n",
    "            password = input(\"Enter the password: \")\n",
    "            if password == \"Sw0rdf1sh!\":\n",
    "                self._pineapple_allowed = value\n",
    "            else:\n",
    "                raise ValueError(\"Alert! Intruder!\")\n",
    "\n",
    "pizza = Pizza([\"cheese\", \"tomato\"])\n",
    "print(pizza.pineapple_allowed)\n",
    "pizza.pineapple_allowed = True\n",
    "print(pizza.pineapple_allowed)"
   ]
  },
  {
   "cell_type": "markdown",
   "metadata": {},
   "source": [
    "**Exceptions**\n",
    "\n",
    "\n",
    "You have already seen exceptions in previous code. They occur when something goes wrong, due to incorrect code or input. When an exception occurs, the program immediately stops.\n",
    "The following code produces the ZeroDivisionError exception by trying to divide 7 by 0:\n",
    "\n",
    "An exception is an event, which occurs during the execution of a program that disrupts the normal flow of the program."
   ]
  },
  {
   "cell_type": "code",
   "execution_count": 75,
   "metadata": {},
   "outputs": [
    {
     "ename": "ZeroDivisionError",
     "evalue": "division by zero",
     "output_type": "error",
     "traceback": [
      "\u001b[1;31m---------------------------------------------------------------------------\u001b[0m",
      "\u001b[1;31mZeroDivisionError\u001b[0m                         Traceback (most recent call last)",
      "\u001b[1;32m<ipython-input-75-e4e18557d959>\u001b[0m in \u001b[0;36m<module>\u001b[1;34m\u001b[0m\n\u001b[0;32m      1\u001b[0m \u001b[0mnum1\u001b[0m \u001b[1;33m=\u001b[0m \u001b[1;36m7\u001b[0m\u001b[1;33m\u001b[0m\u001b[1;33m\u001b[0m\u001b[0m\n\u001b[0;32m      2\u001b[0m \u001b[0mnum2\u001b[0m \u001b[1;33m=\u001b[0m \u001b[1;36m0\u001b[0m\u001b[1;33m\u001b[0m\u001b[1;33m\u001b[0m\u001b[0m\n\u001b[1;32m----> 3\u001b[1;33m \u001b[0mprint\u001b[0m\u001b[1;33m(\u001b[0m\u001b[0mnum1\u001b[0m\u001b[1;33m/\u001b[0m\u001b[0mnum2\u001b[0m\u001b[1;33m)\u001b[0m\u001b[1;33m\u001b[0m\u001b[1;33m\u001b[0m\u001b[0m\n\u001b[0m",
      "\u001b[1;31mZeroDivisionError\u001b[0m: division by zero"
     ]
    }
   ],
   "source": [
    "num1 = 7\n",
    "num2 = 0\n",
    "print(num1/num2)"
   ]
  },
  {
   "cell_type": "markdown",
   "metadata": {},
   "source": [
    "Different exceptions are raised for different reasons.\n",
    "\n",
    "Common exceptions:\n",
    "- ImportError: an import fails;\n",
    "- IndexError: a list is indexed with an out-of-range number;\n",
    "- NameError: an unknown variable is used;\n",
    "- SyntaxError: the code can't be parsed properly;\n",
    "- TypeError: a function is called on a value of an inappropriate type;\n",
    "- ValueError: a function is called on a value of the correct type, but with an inappropriate value.\n",
    "\n",
    "Python has several other built-in exceptions, such as ZeroDivisionError and OSError. Third-party libraries also often define their own exceptions."
   ]
  },
  {
   "cell_type": "markdown",
   "metadata": {},
   "source": [
    "**Exception Handling**\n",
    "\n",
    "\n",
    "When an exception occurs, the program stops executing.\n",
    "To handle exceptions, and to call code when an exception occurs, you can use a try/except statement.\n",
    "The try block contains code that might throw an exception. If that exception occurs, the code in the try block stops being executed, and the code in the except block is run. If no error occurs, the code in the except block doesn't run.\n",
    "\n",
    "For example:"
   ]
  },
  {
   "cell_type": "code",
   "execution_count": 76,
   "metadata": {},
   "outputs": [
    {
     "name": "stdout",
     "output_type": "stream",
     "text": [
      "An error occurred\n",
      "due to zero division\n"
     ]
    }
   ],
   "source": [
    "try:\n",
    "    num1 = 7\n",
    "    num2 = 0\n",
    "    print (num1 / num2)\n",
    "    print(\"Done calculation\")\n",
    "except ZeroDivisionError:\n",
    "    print(\"An error occurred\")\n",
    "    print(\"due to zero division\")"
   ]
  },
  {
   "cell_type": "markdown",
   "metadata": {},
   "source": [
    "As the code produces a ZeroDivisionError exception, the code in the except block is run.\n",
    "In the code above, the except statement defines the type of exception to handle (in our case, the ZeroDivisionError)."
   ]
  },
  {
   "cell_type": "markdown",
   "metadata": {},
   "source": [
    "A try statement can have multiple different except blocks to handle different exceptions.\n",
    "Multiple exceptions can also be put into a single except block using parentheses, to have the except block handle all of them.\n",
    "\n",
    "You can handle as many exceptions in the except statement as you need."
   ]
  },
  {
   "cell_type": "code",
   "execution_count": 78,
   "metadata": {},
   "outputs": [
    {
     "name": "stdout",
     "output_type": "stream",
     "text": [
      "Error occurred\n"
     ]
    }
   ],
   "source": [
    "try:\n",
    "    variable = 10\n",
    "    print(variable + \"hello\")\n",
    "    print(variable / 2)\n",
    "except ZeroDivisionError:\n",
    "    print(\"Divided by zero\")\n",
    "except (ValueError, TypeError):\n",
    "    print(\"Error occurred\")"
   ]
  },
  {
   "cell_type": "markdown",
   "metadata": {},
   "source": [
    "An except statement without any exception specified will catch all errors. These should be used sparingly, as they can catch unexpected errors and hide programming mistakes.\n",
    "Exception handling is particularly useful when dealing with user input.\n",
    "For example:"
   ]
  },
  {
   "cell_type": "code",
   "execution_count": 79,
   "metadata": {},
   "outputs": [
    {
     "name": "stdout",
     "output_type": "stream",
     "text": [
      "An error occurred\n"
     ]
    }
   ],
   "source": [
    "try:\n",
    "    word = \"spam\"\n",
    "    print(word / 0)\n",
    "except:\n",
    "    print(\"An error occurred\")"
   ]
  },
  {
   "cell_type": "markdown",
   "metadata": {},
   "source": [
    "finally\n",
    "\n",
    "\n",
    "After a try/catch statement, a finally block can follow. It will execute after the try/catch block, no matter if an exception occurred or not.\n",
    "\n",
    "The finally block is useful, for example, when working with files and resources: it can be used to make sure files or resources are closed or released regardless of whether an exception occurs."
   ]
  },
  {
   "cell_type": "code",
   "execution_count": 80,
   "metadata": {},
   "outputs": [
    {
     "name": "stdout",
     "output_type": "stream",
     "text": [
      "Hello\n",
      "Divided by zero\n",
      "This code will run no matter what\n"
     ]
    }
   ],
   "source": [
    "try:\n",
    "    print(\"Hello\")\n",
    "    print(1 / 0)\n",
    "except ZeroDivisionError:\n",
    "    print(\"Divided by zero\")\n",
    "finally:\n",
    "    print(\"This code will run no matter what\")"
   ]
  },
  {
   "cell_type": "markdown",
   "metadata": {},
   "source": [
    "**else**\n",
    "\n",
    "\n",
    "The else statement can also be used with try/except statements.\n",
    "In this case, the code within it is only executed if no error occurs in the try statement."
   ]
  },
  {
   "cell_type": "code",
   "execution_count": 81,
   "metadata": {},
   "outputs": [
    {
     "name": "stdout",
     "output_type": "stream",
     "text": [
      "1\n",
      "3\n",
      "4\n"
     ]
    }
   ],
   "source": [
    "try:\n",
    "    print(1)\n",
    "except ZeroDivisionError:\n",
    "    print(2)\n",
    "else:\n",
    "    print(3)\n",
    "\n",
    "try:\n",
    "    print(1/0)\n",
    "except ZeroDivisionError:\n",
    "    print(4)\n",
    "else:\n",
    "    print(5)"
   ]
  },
  {
   "cell_type": "markdown",
   "metadata": {},
   "source": [
    "**Raising Exceptions**\n",
    "\n",
    "\n",
    "You can throw (or raise) exceptions when some condition occurs.\n",
    "For example, when you take user input that needs to be in a specific format, you can throw an exception when it does not meet the requirements.\n",
    "You need to specify the type of the exception raised. In the code above, we raise a ValueError\n",
    "This is done using the raise statement."
   ]
  },
  {
   "cell_type": "code",
   "execution_count": 82,
   "metadata": {},
   "outputs": [
    {
     "ename": "ValueError",
     "evalue": "",
     "output_type": "error",
     "traceback": [
      "\u001b[1;31m---------------------------------------------------------------------------\u001b[0m",
      "\u001b[1;31mValueError\u001b[0m                                Traceback (most recent call last)",
      "\u001b[1;32m<ipython-input-82-91dfe72911ec>\u001b[0m in \u001b[0;36m<module>\u001b[1;34m\u001b[0m\n\u001b[0;32m      1\u001b[0m \u001b[0mnum\u001b[0m \u001b[1;33m=\u001b[0m \u001b[1;36m102\u001b[0m\u001b[1;33m\u001b[0m\u001b[1;33m\u001b[0m\u001b[0m\n\u001b[0;32m      2\u001b[0m \u001b[1;32mif\u001b[0m \u001b[0mnum\u001b[0m \u001b[1;33m>\u001b[0m \u001b[1;36m100\u001b[0m\u001b[1;33m:\u001b[0m\u001b[1;33m\u001b[0m\u001b[1;33m\u001b[0m\u001b[0m\n\u001b[1;32m----> 3\u001b[1;33m   \u001b[1;32mraise\u001b[0m \u001b[0mValueError\u001b[0m\u001b[1;33m\u001b[0m\u001b[1;33m\u001b[0m\u001b[0m\n\u001b[0m",
      "\u001b[1;31mValueError\u001b[0m: "
     ]
    }
   ],
   "source": [
    "num = 102\n",
    "if num > 100:\n",
    "  raise ValueError"
   ]
  },
  {
   "cell_type": "markdown",
   "metadata": {},
   "source": [
    "Exceptions can be raised with arguments that give detail about them.This makes it easier for other developers to understand why you raised the exception.\n",
    "\n",
    "For example:"
   ]
  },
  {
   "cell_type": "code",
   "execution_count": 83,
   "metadata": {},
   "outputs": [
    {
     "ename": "NameError",
     "evalue": "Invalid name!",
     "output_type": "error",
     "traceback": [
      "\u001b[1;31m---------------------------------------------------------------------------\u001b[0m",
      "\u001b[1;31mNameError\u001b[0m                                 Traceback (most recent call last)",
      "\u001b[1;32m<ipython-input-83-d5ceb78ca603>\u001b[0m in \u001b[0;36m<module>\u001b[1;34m\u001b[0m\n\u001b[0;32m      1\u001b[0m \u001b[0mname\u001b[0m \u001b[1;33m=\u001b[0m \u001b[1;34m\"123\"\u001b[0m\u001b[1;33m\u001b[0m\u001b[1;33m\u001b[0m\u001b[0m\n\u001b[1;32m----> 2\u001b[1;33m \u001b[1;32mraise\u001b[0m \u001b[0mNameError\u001b[0m\u001b[1;33m(\u001b[0m\u001b[1;34m\"Invalid name!\"\u001b[0m\u001b[1;33m)\u001b[0m\u001b[1;33m\u001b[0m\u001b[1;33m\u001b[0m\u001b[0m\n\u001b[0m",
      "\u001b[1;31mNameError\u001b[0m: Invalid name!"
     ]
    }
   ],
   "source": [
    "name = \"123\"\n",
    "raise NameError(\"Invalid name!\")"
   ]
  },
  {
   "cell_type": "markdown",
   "metadata": {},
   "source": [
    "**Opening Files**\n",
    "\n",
    "\n",
    "You can use Python to read and write the contents of files.\n",
    "This is particularly useful when you need to work with a lot of data that is saved in a file.\n",
    "For example, in data science and analytics, the data is commonly in CSV (comma-separated values) files.\n",
    "\n",
    "Let's start by working with text files, as they are the easiest to manipulate.\n",
    "Before a file can be edited, it must be opened, using the open function.\n",
    "\n",
    "The argument of the open function is the path to the file. If the file is in the current working directory of the program, you can specify only its name."
   ]
  },
  {
   "cell_type": "code",
   "execution_count": 84,
   "metadata": {},
   "outputs": [
    {
     "ename": "FileNotFoundError",
     "evalue": "[Errno 2] No such file or directory: 'filename.txt'",
     "output_type": "error",
     "traceback": [
      "\u001b[1;31m---------------------------------------------------------------------------\u001b[0m",
      "\u001b[1;31mFileNotFoundError\u001b[0m                         Traceback (most recent call last)",
      "\u001b[1;32m<ipython-input-84-c070ae715fb1>\u001b[0m in \u001b[0;36m<module>\u001b[1;34m\u001b[0m\n\u001b[1;32m----> 1\u001b[1;33m \u001b[0mmyfile\u001b[0m \u001b[1;33m=\u001b[0m \u001b[0mopen\u001b[0m\u001b[1;33m(\u001b[0m\u001b[1;34m\"filename.txt\"\u001b[0m\u001b[1;33m)\u001b[0m\u001b[1;33m\u001b[0m\u001b[1;33m\u001b[0m\u001b[0m\n\u001b[0m",
      "\u001b[1;31mFileNotFoundError\u001b[0m: [Errno 2] No such file or directory: 'filename.txt'"
     ]
    }
   ],
   "source": [
    "myfile = open(\"filename.txt\")"
   ]
  },
  {
   "cell_type": "markdown",
   "metadata": {},
   "source": [
    "**Opening Files**\n",
    "\n",
    "\n",
    "You can specify the mode used to open a file by applying a second argument to the open function.\n",
    "Sending \"r\" means open in read mode, which is the default.\n",
    "Sending \"w\" means write mode, for rewriting the contents of a file.\n",
    "Sending \"a\" means append mode, for adding new content to the end of the file.\n",
    "\n",
    "Adding \"b\" to a mode opens it in binary mode, which is used for non-text files (such as image and sound files).\n",
    "\n",
    "You can combine modes, for example, wb from the code above opens the file in binarywrite mode.\n",
    "\n",
    "For example:"
   ]
  },
  {
   "cell_type": "code",
   "execution_count": 87,
   "metadata": {},
   "outputs": [
    {
     "data": {
      "text/plain": [
       "<_io.BufferedWriter name='filename.txt'>"
      ]
     },
     "execution_count": 87,
     "metadata": {},
     "output_type": "execute_result"
    }
   ],
   "source": [
    "# write mode\n",
    "open(\"filename.txt\", \"w\")\n",
    "\n",
    "# read mode\n",
    "open(\"filename.txt\", \"r\")\n",
    "open(\"filename.txt\")\n",
    "\n",
    "# binary write mode\n",
    "open(\"filename.txt\", \"wb\")"
   ]
  },
  {
   "cell_type": "markdown",
   "metadata": {},
   "source": [
    "Once a file has been opened and used, you should close it.\n",
    "This is done with the close method of the file object.\n",
    "\n",
    "We will read/write content to files in the upcoming lessons."
   ]
  },
  {
   "cell_type": "code",
   "execution_count": 88,
   "metadata": {},
   "outputs": [],
   "source": [
    "file = open(\"filename.txt\", \"w\")\n",
    "# do stuff to the file\n",
    "file.close()"
   ]
  },
  {
   "cell_type": "markdown",
   "metadata": {},
   "source": [
    "**Reading Files**\n",
    "\n",
    "\n",
    "The contents of a file that has been opened in text mode can be read using the read method.\n",
    "This will print all of the contents of the file.\n",
    "We have created a books.txt file on the server which includes titles of books. Let's read the file and output the content:"
   ]
  },
  {
   "cell_type": "code",
   "execution_count": 110,
   "metadata": {},
   "outputs": [
    {
     "name": "stdout",
     "output_type": "stream",
     "text": [
      "\n",
      "The Da Vinci Code\n"
     ]
    }
   ],
   "source": [
    "file = open(\"books.txt\")\n",
    "cont = file.read()\n",
    "print(cont)\n",
    "file.close()"
   ]
  },
  {
   "cell_type": "markdown",
   "metadata": {},
   "source": [
    "To read only a certain amount of a file, you can provide the number of bytes to read as an argument to the read function.\n",
    "Each ASCII character is 1 byte:"
   ]
  },
  {
   "cell_type": "code",
   "execution_count": 99,
   "metadata": {},
   "outputs": [
    {
     "name": "stdout",
     "output_type": "stream",
     "text": [
      "What \n",
      "is Lore\n",
      "m Ipsum?\n",
      "Lorem Ipsum is simply dummy text of the printing and typesetting industry. Lorem Ipsum has been the industry's standard dummy text ever since the 1500s, when an unknown printer took a galley of type and scrambled it to make a type specimen book. It has survived not only five centuries, but also the leap into electronic typesetting, remaining essentially unchanged. It was popularised in the 1960s with the release of Letraset sheets containing Lorem Ipsum passages, and more recently with desktop publishing software like Aldus PageMaker including versions of Lorem Ipsum.\n"
     ]
    }
   ],
   "source": [
    "file = open(\"filename.txt\")\n",
    "print(file.read(5))\n",
    "print(file.read(7))\n",
    "print(file.read())\n",
    "file.close()"
   ]
  },
  {
   "cell_type": "markdown",
   "metadata": {},
   "source": [
    "This will read the first 5 characters of the file, then the next 7.\n",
    "Calling the read() method without an argument will return the rest of the file content."
   ]
  },
  {
   "cell_type": "markdown",
   "metadata": {},
   "source": [
    "To retrieve each line in a file, you can use the readlines() method to return a list in which each element is a line in the file.\n",
    "\n",
    "For example:"
   ]
  },
  {
   "cell_type": "code",
   "execution_count": 100,
   "metadata": {},
   "outputs": [
    {
     "name": "stdout",
     "output_type": "stream",
     "text": [
      "What is Lorem Ipsum?\n",
      "\n",
      "Lorem Ipsum is simply dummy text of the printing and typesetting industry. Lorem Ipsum has been the industry's standard dummy text ever since the 1500s, when an unknown printer took a galley of type and scrambled it to make a type specimen book. It has survived not only five centuries, but also the leap into electronic typesetting, remaining essentially unchanged. It was popularised in the 1960s with the release of Letraset sheets containing Lorem Ipsum passages, and more recently with desktop publishing software like Aldus PageMaker including versions of Lorem Ipsum.\n"
     ]
    }
   ],
   "source": [
    "file = open(\"filename.txt\")\n",
    "\n",
    "for line in file.readlines():\n",
    "    print(line)\n",
    "    \n",
    "file.close()"
   ]
  },
  {
   "cell_type": "markdown",
   "metadata": {},
   "source": [
    "If you do not need the list for each line, you can simply iterate over the file variable:"
   ]
  },
  {
   "cell_type": "code",
   "execution_count": 101,
   "metadata": {},
   "outputs": [
    {
     "name": "stdout",
     "output_type": "stream",
     "text": [
      "What is Lorem Ipsum?\n",
      "\n",
      "Lorem Ipsum is simply dummy text of the printing and typesetting industry. Lorem Ipsum has been the industry's standard dummy text ever since the 1500s, when an unknown printer took a galley of type and scrambled it to make a type specimen book. It has survived not only five centuries, but also the leap into electronic typesetting, remaining essentially unchanged. It was popularised in the 1960s with the release of Letraset sheets containing Lorem Ipsum passages, and more recently with desktop publishing software like Aldus PageMaker including versions of Lorem Ipsum.\n"
     ]
    }
   ],
   "source": [
    "file = open(\"filename.txt\")\n",
    "\n",
    "for line in file:\n",
    "    print(line)\n",
    "    \n",
    "file.close()"
   ]
  },
  {
   "cell_type": "markdown",
   "metadata": {},
   "source": [
    "**Writing Files**\n",
    "\n",
    "\n",
    "To write to files you use the write method.\n",
    "\n",
    "For example:"
   ]
  },
  {
   "cell_type": "code",
   "execution_count": 102,
   "metadata": {},
   "outputs": [
    {
     "name": "stdout",
     "output_type": "stream",
     "text": [
      "This has been written to a file\n"
     ]
    }
   ],
   "source": [
    "file = open(\"newfile.txt\", \"w\")\n",
    "file.write(\"This has been written to a file\")\n",
    "file.close()\n",
    "\n",
    "file = open(\"newfile.txt\", \"r\")\n",
    "print(file.read())\n",
    "file.close()"
   ]
  },
  {
   "cell_type": "markdown",
   "metadata": {},
   "source": [
    "This will create a new file called \"newfile.txt\" and write the content to it.\n",
    "In case the file already exists, its entire content will be replaced when you open it in write mode using \"w\"."
   ]
  },
  {
   "cell_type": "markdown",
   "metadata": {},
   "source": [
    "If you want to add content to an existing file, you can open it using the \"a\" mode, which stand for \"append\":"
   ]
  },
  {
   "cell_type": "code",
   "execution_count": 103,
   "metadata": {},
   "outputs": [
    {
     "name": "stdout",
     "output_type": "stream",
     "text": [
      "\n",
      "The Da Vinci Code\n"
     ]
    }
   ],
   "source": [
    "file = open(\"books.txt\", \"a\")\n",
    "\n",
    "file.write(\"\\nThe Da Vinci Code\")\n",
    "file.close()\n",
    "\n",
    "file = open(\"books.txt\", \"r\")\n",
    "print(file.read())\n",
    "file.close()"
   ]
  },
  {
   "cell_type": "markdown",
   "metadata": {},
   "source": [
    "This will add a new line with a new book title to the file.\n",
    "Remember, \\n stands for a new line."
   ]
  },
  {
   "cell_type": "markdown",
   "metadata": {},
   "source": [
    "The write method returns the number of bytes written to a file, if successful."
   ]
  },
  {
   "cell_type": "code",
   "execution_count": 104,
   "metadata": {},
   "outputs": [
    {
     "name": "stdout",
     "output_type": "stream",
     "text": [
      "12\n"
     ]
    }
   ],
   "source": [
    "msg = \"Hello world!\"\n",
    "file = open(\"newfile.txt\", \"w\")\n",
    "amount_written = file.write(msg)\n",
    "print(amount_written)\n",
    "file.close()"
   ]
  },
  {
   "cell_type": "markdown",
   "metadata": {},
   "source": [
    "The code above will write to the file and print the number of bytes written.\n",
    "To write something other than a string, it needs to be converted to a string first."
   ]
  },
  {
   "cell_type": "markdown",
   "metadata": {},
   "source": [
    "It is good practice to avoid wasting resources by making sure that files are always closed after they have been used. One way of doing this is to use try and finally"
   ]
  },
  {
   "cell_type": "code",
   "execution_count": 106,
   "metadata": {},
   "outputs": [
    {
     "name": "stdout",
     "output_type": "stream",
     "text": [
      "\n",
      "The Da Vinci Code\n"
     ]
    }
   ],
   "source": [
    "try:\n",
    "  f = open(\"books.txt\")\n",
    "  cont = f.read()\n",
    "  print(cont)\n",
    "finally:\n",
    " f.close()"
   ]
  },
  {
   "cell_type": "markdown",
   "metadata": {},
   "source": [
    "This ensures that the file is always closed, even if an error occurs."
   ]
  },
  {
   "cell_type": "markdown",
   "metadata": {},
   "source": [
    "An alternative way of doing this is by using with statements.This creates a temporary variable (often called f), which is only accessible in the indented block of the with statement."
   ]
  },
  {
   "cell_type": "code",
   "execution_count": 109,
   "metadata": {},
   "outputs": [
    {
     "name": "stdout",
     "output_type": "stream",
     "text": [
      "\n",
      "The Da Vinci Code\n"
     ]
    }
   ],
   "source": [
    "with open(\"books.txt\") as f:\n",
    "  print(f.read())"
   ]
  },
  {
   "cell_type": "markdown",
   "metadata": {},
   "source": [
    "The file is automatically closed at the end of the with statement, even if exceptions occur within it."
   ]
  },
  {
   "cell_type": "code",
   "execution_count": null,
   "metadata": {},
   "outputs": [],
   "source": []
  }
 ],
 "metadata": {
  "kernelspec": {
   "display_name": "Python 3",
   "language": "python",
   "name": "python3"
  },
  "language_info": {
   "codemirror_mode": {
    "name": "ipython",
    "version": 3
   },
   "file_extension": ".py",
   "mimetype": "text/x-python",
   "name": "python",
   "nbconvert_exporter": "python",
   "pygments_lexer": "ipython3",
   "version": "3.8.6"
  }
 },
 "nbformat": 4,
 "nbformat_minor": 4
}
